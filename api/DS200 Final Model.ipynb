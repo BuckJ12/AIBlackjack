{
 "cells": [
  {
   "cell_type": "code",
   "execution_count": 2,
   "id": "277ff52c",
   "metadata": {},
   "outputs": [],
   "source": [
    "import pandas as pd\n",
    "import numpy as np\n",
    "import seaborn as sns\n",
    "import matplotlib.pyplot as plt"
   ]
  },
  {
   "cell_type": "code",
   "execution_count": 3,
   "id": "8529854d",
   "metadata": {},
   "outputs": [],
   "source": [
    "bj = pd.read_csv('bj_dataset.csv')"
   ]
  },
  {
   "cell_type": "code",
   "execution_count": 4,
   "id": "1d8d20f4",
   "metadata": {},
   "outputs": [
    {
     "data": {
      "text/html": [
       "<div>\n",
       "<style scoped>\n",
       "    .dataframe tbody tr th:only-of-type {\n",
       "        vertical-align: middle;\n",
       "    }\n",
       "\n",
       "    .dataframe tbody tr th {\n",
       "        vertical-align: top;\n",
       "    }\n",
       "\n",
       "    .dataframe thead th {\n",
       "        text-align: right;\n",
       "    }\n",
       "</style>\n",
       "<table border=\"1\" class=\"dataframe\">\n",
       "  <thead>\n",
       "    <tr style=\"text-align: right;\">\n",
       "      <th></th>\n",
       "      <th>cards_remaining</th>\n",
       "      <th>dealer_up</th>\n",
       "      <th>true_count</th>\n",
       "      <th>win</th>\n",
       "      <th>initial_sum</th>\n",
       "      <th>double</th>\n",
       "      <th>move</th>\n",
       "    </tr>\n",
       "  </thead>\n",
       "  <tbody>\n",
       "    <tr>\n",
       "      <th>0</th>\n",
       "      <td>416</td>\n",
       "      <td>10</td>\n",
       "      <td>0</td>\n",
       "      <td>1.0</td>\n",
       "      <td>21</td>\n",
       "      <td>0</td>\n",
       "      <td>1.0</td>\n",
       "    </tr>\n",
       "    <tr>\n",
       "      <th>1</th>\n",
       "      <td>411</td>\n",
       "      <td>10</td>\n",
       "      <td>0</td>\n",
       "      <td>1.0</td>\n",
       "      <td>10</td>\n",
       "      <td>1</td>\n",
       "      <td>2.0</td>\n",
       "    </tr>\n",
       "    <tr>\n",
       "      <th>2</th>\n",
       "      <td>406</td>\n",
       "      <td>6</td>\n",
       "      <td>0</td>\n",
       "      <td>1.0</td>\n",
       "      <td>13</td>\n",
       "      <td>0</td>\n",
       "      <td>1.0</td>\n",
       "    </tr>\n",
       "    <tr>\n",
       "      <th>3</th>\n",
       "      <td>401</td>\n",
       "      <td>10</td>\n",
       "      <td>0</td>\n",
       "      <td>0.0</td>\n",
       "      <td>14</td>\n",
       "      <td>0</td>\n",
       "      <td>2.0</td>\n",
       "    </tr>\n",
       "    <tr>\n",
       "      <th>4</th>\n",
       "      <td>395</td>\n",
       "      <td>8</td>\n",
       "      <td>0</td>\n",
       "      <td>-1.0</td>\n",
       "      <td>16</td>\n",
       "      <td>0</td>\n",
       "      <td>2.0</td>\n",
       "    </tr>\n",
       "  </tbody>\n",
       "</table>\n",
       "</div>"
      ],
      "text/plain": [
       "   cards_remaining  dealer_up  true_count  win  initial_sum  double  move\n",
       "0              416         10           0  1.0           21       0   1.0\n",
       "1              411         10           0  1.0           10       1   2.0\n",
       "2              406          6           0  1.0           13       0   1.0\n",
       "3              401         10           0  0.0           14       0   2.0\n",
       "4              395          8           0 -1.0           16       0   2.0"
      ]
     },
     "execution_count": 4,
     "metadata": {},
     "output_type": "execute_result"
    }
   ],
   "source": [
    "bj.head()"
   ]
  },
  {
   "cell_type": "markdown",
   "id": "f23ad25a",
   "metadata": {},
   "source": [
    "## Modeling"
   ]
  },
  {
   "cell_type": "markdown",
   "id": "4115a7df",
   "metadata": {},
   "source": [
    "### Data Splitting/Scaling"
   ]
  },
  {
   "cell_type": "code",
   "execution_count": 5,
   "id": "605208da",
   "metadata": {},
   "outputs": [],
   "source": [
    "from sklearn.model_selection import train_test_split"
   ]
  },
  {
   "cell_type": "code",
   "execution_count": 6,
   "id": "603dda72",
   "metadata": {},
   "outputs": [],
   "source": [
    "X = bj.drop(labels=['move', 'win'], axis=1)\n",
    "y = bj['move']"
   ]
  },
  {
   "cell_type": "code",
   "execution_count": 7,
   "id": "bc6fa410",
   "metadata": {},
   "outputs": [],
   "source": [
    "from sklearn.preprocessing import StandardScaler\n",
    "scaler = StandardScaler()\n",
    "X = scaler.fit_transform(X)\n"
   ]
  },
  {
   "cell_type": "code",
   "execution_count": 8,
   "id": "3c689bd5",
   "metadata": {},
   "outputs": [],
   "source": [
    "X_train, X_test, y_train, y_test = train_test_split(X, y, test_size=0.2, random_state=101)"
   ]
  },
  {
   "cell_type": "markdown",
   "id": "124d8947",
   "metadata": {},
   "source": [
    "### Logistic Regression Model"
   ]
  },
  {
   "cell_type": "code",
   "execution_count": 9,
   "id": "242fc870",
   "metadata": {},
   "outputs": [
    {
     "data": {
      "text/html": [
       "<style>#sk-container-id-1 {color: black;}#sk-container-id-1 pre{padding: 0;}#sk-container-id-1 div.sk-toggleable {background-color: white;}#sk-container-id-1 label.sk-toggleable__label {cursor: pointer;display: block;width: 100%;margin-bottom: 0;padding: 0.3em;box-sizing: border-box;text-align: center;}#sk-container-id-1 label.sk-toggleable__label-arrow:before {content: \"▸\";float: left;margin-right: 0.25em;color: #696969;}#sk-container-id-1 label.sk-toggleable__label-arrow:hover:before {color: black;}#sk-container-id-1 div.sk-estimator:hover label.sk-toggleable__label-arrow:before {color: black;}#sk-container-id-1 div.sk-toggleable__content {max-height: 0;max-width: 0;overflow: hidden;text-align: left;background-color: #f0f8ff;}#sk-container-id-1 div.sk-toggleable__content pre {margin: 0.2em;color: black;border-radius: 0.25em;background-color: #f0f8ff;}#sk-container-id-1 input.sk-toggleable__control:checked~div.sk-toggleable__content {max-height: 200px;max-width: 100%;overflow: auto;}#sk-container-id-1 input.sk-toggleable__control:checked~label.sk-toggleable__label-arrow:before {content: \"▾\";}#sk-container-id-1 div.sk-estimator input.sk-toggleable__control:checked~label.sk-toggleable__label {background-color: #d4ebff;}#sk-container-id-1 div.sk-label input.sk-toggleable__control:checked~label.sk-toggleable__label {background-color: #d4ebff;}#sk-container-id-1 input.sk-hidden--visually {border: 0;clip: rect(1px 1px 1px 1px);clip: rect(1px, 1px, 1px, 1px);height: 1px;margin: -1px;overflow: hidden;padding: 0;position: absolute;width: 1px;}#sk-container-id-1 div.sk-estimator {font-family: monospace;background-color: #f0f8ff;border: 1px dotted black;border-radius: 0.25em;box-sizing: border-box;margin-bottom: 0.5em;}#sk-container-id-1 div.sk-estimator:hover {background-color: #d4ebff;}#sk-container-id-1 div.sk-parallel-item::after {content: \"\";width: 100%;border-bottom: 1px solid gray;flex-grow: 1;}#sk-container-id-1 div.sk-label:hover label.sk-toggleable__label {background-color: #d4ebff;}#sk-container-id-1 div.sk-serial::before {content: \"\";position: absolute;border-left: 1px solid gray;box-sizing: border-box;top: 0;bottom: 0;left: 50%;z-index: 0;}#sk-container-id-1 div.sk-serial {display: flex;flex-direction: column;align-items: center;background-color: white;padding-right: 0.2em;padding-left: 0.2em;position: relative;}#sk-container-id-1 div.sk-item {position: relative;z-index: 1;}#sk-container-id-1 div.sk-parallel {display: flex;align-items: stretch;justify-content: center;background-color: white;position: relative;}#sk-container-id-1 div.sk-item::before, #sk-container-id-1 div.sk-parallel-item::before {content: \"\";position: absolute;border-left: 1px solid gray;box-sizing: border-box;top: 0;bottom: 0;left: 50%;z-index: -1;}#sk-container-id-1 div.sk-parallel-item {display: flex;flex-direction: column;z-index: 1;position: relative;background-color: white;}#sk-container-id-1 div.sk-parallel-item:first-child::after {align-self: flex-end;width: 50%;}#sk-container-id-1 div.sk-parallel-item:last-child::after {align-self: flex-start;width: 50%;}#sk-container-id-1 div.sk-parallel-item:only-child::after {width: 0;}#sk-container-id-1 div.sk-dashed-wrapped {border: 1px dashed gray;margin: 0 0.4em 0.5em 0.4em;box-sizing: border-box;padding-bottom: 0.4em;background-color: white;}#sk-container-id-1 div.sk-label label {font-family: monospace;font-weight: bold;display: inline-block;line-height: 1.2em;}#sk-container-id-1 div.sk-label-container {text-align: center;}#sk-container-id-1 div.sk-container {/* jupyter's `normalize.less` sets `[hidden] { display: none; }` but bootstrap.min.css set `[hidden] { display: none !important; }` so we also need the `!important` here to be able to override the default hidden behavior on the sphinx rendered scikit-learn.org. See: https://github.com/scikit-learn/scikit-learn/issues/21755 */display: inline-block !important;position: relative;}#sk-container-id-1 div.sk-text-repr-fallback {display: none;}</style><div id=\"sk-container-id-1\" class=\"sk-top-container\"><div class=\"sk-text-repr-fallback\"><pre>LogisticRegression()</pre><b>In a Jupyter environment, please rerun this cell to show the HTML representation or trust the notebook. <br />On GitHub, the HTML representation is unable to render, please try loading this page with nbviewer.org.</b></div><div class=\"sk-container\" hidden><div class=\"sk-item\"><div class=\"sk-estimator sk-toggleable\"><input class=\"sk-toggleable__control sk-hidden--visually\" id=\"sk-estimator-id-1\" type=\"checkbox\" checked><label for=\"sk-estimator-id-1\" class=\"sk-toggleable__label sk-toggleable__label-arrow\">LogisticRegression</label><div class=\"sk-toggleable__content\"><pre>LogisticRegression()</pre></div></div></div></div></div>"
      ],
      "text/plain": [
       "LogisticRegression()"
      ]
     },
     "execution_count": 9,
     "metadata": {},
     "output_type": "execute_result"
    }
   ],
   "source": [
    "from sklearn.linear_model import LogisticRegression\n",
    "LRModel = LogisticRegression()\n",
    "LRModel.fit(X_train, y_train)"
   ]
  },
  {
   "cell_type": "code",
   "execution_count": 10,
   "id": "d55919ff",
   "metadata": {},
   "outputs": [],
   "source": [
    "LRMpred = LRModel.predict(X_test)"
   ]
  },
  {
   "cell_type": "markdown",
   "id": "0d76d2a8",
   "metadata": {},
   "source": [
    "### K-Nearest Neighbors"
   ]
  },
  {
   "cell_type": "code",
   "execution_count": 11,
   "id": "b69021bc",
   "metadata": {},
   "outputs": [],
   "source": [
    "from sklearn.neighbors import KNeighborsClassifier"
   ]
  },
  {
   "cell_type": "code",
   "execution_count": 12,
   "id": "3583d082",
   "metadata": {},
   "outputs": [],
   "source": [
    "error_rate = []\n",
    "\n",
    "for i in range(3, 15):\n",
    "    knn = KNeighborsClassifier(n_neighbors=i)\n",
    "    knn.fit(X_train, y_train)\n",
    "    pred_i = knn.predict(X_test)\n",
    "    error_rate.append(np.mean(np.abs(pred_i - y_test)))\n"
   ]
  },
  {
   "cell_type": "code",
   "execution_count": 13,
   "id": "ba4ae15c",
   "metadata": {},
   "outputs": [
    {
     "data": {
      "text/plain": [
       "[<matplotlib.lines.Line2D at 0x2c83e7ad1d0>]"
      ]
     },
     "execution_count": 13,
     "metadata": {},
     "output_type": "execute_result"
    },
    {
     "data": {
      "image/png": "[encoded data removed]",
      "text/plain": [
       "<Figure size 1000x600 with 1 Axes>"
      ]
     },
     "metadata": {},
     "output_type": "display_data"
    }
   ],
   "source": [
    "plt.figure(figsize=(10,6))\n",
    "plt.title('Error Rate vs. K Value')\n",
    "plt.xlabel('K')\n",
    "plt.ylabel('Error Rate')\n",
    "\n",
    "plt.plot(range(3, 15), error_rate, marker = 'o', linestyle='--', markerfacecolor='red')"
   ]
  },
  {
   "cell_type": "code",
   "execution_count": 14,
   "id": "f1f7b5e7",
   "metadata": {},
   "outputs": [],
   "source": [
    "knn = KNeighborsClassifier(n_neighbors=6)\n",
    "\n",
    "knn.fit(X_train,y_train)\n",
    "KNNpred = knn.predict(X_test)"
   ]
  },
  {
   "cell_type": "markdown",
   "id": "4fa4d123",
   "metadata": {},
   "source": [
    "## Model Evaluations"
   ]
  },
  {
   "cell_type": "markdown",
   "id": "cbaf77b8",
   "metadata": {},
   "source": [
    "### Logistic Regression Model"
   ]
  },
  {
   "cell_type": "code",
   "execution_count": 15,
   "id": "1b980479",
   "metadata": {},
   "outputs": [],
   "source": [
    "from sklearn.metrics import confusion_matrix, classification_report"
   ]
  },
  {
   "cell_type": "code",
   "execution_count": 16,
   "id": "68f3fa7f",
   "metadata": {},
   "outputs": [
    {
     "name": "stdout",
     "output_type": "stream",
     "text": [
      "Confusion Matrix for Logistic Model: \n",
      "\n",
      "[[36022  2805     0     0]\n",
      " [ 4751 25300   809   214]\n",
      " [ 1507  5927  1339   208]\n",
      " [  987   190     0   787]]\n"
     ]
    }
   ],
   "source": [
    "print(\"Confusion Matrix for Logistic Model: \\n\")\n",
    "print(confusion_matrix(y_test, LRMpred))"
   ]
  },
  {
   "cell_type": "code",
   "execution_count": 17,
   "id": "6e53d6be",
   "metadata": {},
   "outputs": [
    {
     "name": "stdout",
     "output_type": "stream",
     "text": [
      "Classification Report for Logistic Model: \n",
      "\n",
      "              precision    recall  f1-score   support\n",
      "\n",
      "         1.0       0.83      0.93      0.88     38827\n",
      "         2.0       0.74      0.81      0.77     31074\n",
      "         3.0       0.62      0.15      0.24      8981\n",
      "         4.0       0.65      0.40      0.50      1964\n",
      "\n",
      "    accuracy                           0.78     80846\n",
      "   macro avg       0.71      0.57      0.60     80846\n",
      "weighted avg       0.77      0.78      0.76     80846\n",
      "\n"
     ]
    }
   ],
   "source": [
    "print(\"Classification Report for Logistic Model: \\n\\n\" + classification_report(y_test, LRMpred))"
   ]
  },
  {
   "cell_type": "markdown",
   "id": "1e2c1abc",
   "metadata": {},
   "source": [
    "### K-Nearest Neighbors"
   ]
  },
  {
   "cell_type": "code",
   "execution_count": 18,
   "id": "b1d118c8",
   "metadata": {},
   "outputs": [
    {
     "name": "stdout",
     "output_type": "stream",
     "text": [
      "Confusion Matrix for K-Nearest Neighbors: \n",
      "\n",
      "[[38679    71    74     3]\n",
      " [ 1944 29101    24     5]\n",
      " [ 1671    99  7211     0]\n",
      " [   83    19     1  1861]]\n"
     ]
    }
   ],
   "source": [
    "print(\"Confusion Matrix for K-Nearest Neighbors: \\n\")\n",
    "print(confusion_matrix(y_test,KNNpred))"
   ]
  },
  {
   "cell_type": "code",
   "execution_count": 19,
   "id": "df8c1237",
   "metadata": {},
   "outputs": [
    {
     "name": "stdout",
     "output_type": "stream",
     "text": [
      "Classification Report for K-Nearest Neighbors: \n",
      "\n",
      "              precision    recall  f1-score   support\n",
      "\n",
      "         1.0       0.91      1.00      0.95     38827\n",
      "         2.0       0.99      0.94      0.96     31074\n",
      "         3.0       0.99      0.80      0.89      8981\n",
      "         4.0       1.00      0.95      0.97      1964\n",
      "\n",
      "    accuracy                           0.95     80846\n",
      "   macro avg       0.97      0.92      0.94     80846\n",
      "weighted avg       0.95      0.95      0.95     80846\n",
      "\n"
     ]
    }
   ],
   "source": [
    "print(\"Classification Report for K-Nearest Neighbors: \\n\\n\" + classification_report(y_test, KNNpred))"
   ]
  },
  {
   "cell_type": "markdown",
   "id": "ac36a20c",
   "metadata": {},
   "source": [
    "## Model Test Inputs"
   ]
  },
  {
   "cell_type": "code",
   "execution_count": 20,
   "id": "3bd41d49",
   "metadata": {},
   "outputs": [
    {
     "data": {
      "text/html": [
       "<div>\n",
       "<style scoped>\n",
       "    .dataframe tbody tr th:only-of-type {\n",
       "        vertical-align: middle;\n",
       "    }\n",
       "\n",
       "    .dataframe tbody tr th {\n",
       "        vertical-align: top;\n",
       "    }\n",
       "\n",
       "    .dataframe thead th {\n",
       "        text-align: right;\n",
       "    }\n",
       "</style>\n",
       "<table border=\"1\" class=\"dataframe\">\n",
       "  <thead>\n",
       "    <tr style=\"text-align: right;\">\n",
       "      <th></th>\n",
       "      <th>cards_remaining</th>\n",
       "      <th>dealer_up</th>\n",
       "      <th>true_count</th>\n",
       "      <th>win</th>\n",
       "      <th>initial_sum</th>\n",
       "      <th>double</th>\n",
       "      <th>move</th>\n",
       "    </tr>\n",
       "  </thead>\n",
       "  <tbody>\n",
       "    <tr>\n",
       "      <th>0</th>\n",
       "      <td>416</td>\n",
       "      <td>10</td>\n",
       "      <td>0</td>\n",
       "      <td>1.0</td>\n",
       "      <td>21</td>\n",
       "      <td>0</td>\n",
       "      <td>1.0</td>\n",
       "    </tr>\n",
       "    <tr>\n",
       "      <th>1</th>\n",
       "      <td>411</td>\n",
       "      <td>10</td>\n",
       "      <td>0</td>\n",
       "      <td>1.0</td>\n",
       "      <td>10</td>\n",
       "      <td>1</td>\n",
       "      <td>2.0</td>\n",
       "    </tr>\n",
       "    <tr>\n",
       "      <th>2</th>\n",
       "      <td>406</td>\n",
       "      <td>6</td>\n",
       "      <td>0</td>\n",
       "      <td>1.0</td>\n",
       "      <td>13</td>\n",
       "      <td>0</td>\n",
       "      <td>1.0</td>\n",
       "    </tr>\n",
       "    <tr>\n",
       "      <th>3</th>\n",
       "      <td>401</td>\n",
       "      <td>10</td>\n",
       "      <td>0</td>\n",
       "      <td>0.0</td>\n",
       "      <td>14</td>\n",
       "      <td>0</td>\n",
       "      <td>2.0</td>\n",
       "    </tr>\n",
       "    <tr>\n",
       "      <th>4</th>\n",
       "      <td>395</td>\n",
       "      <td>8</td>\n",
       "      <td>0</td>\n",
       "      <td>-1.0</td>\n",
       "      <td>16</td>\n",
       "      <td>0</td>\n",
       "      <td>2.0</td>\n",
       "    </tr>\n",
       "  </tbody>\n",
       "</table>\n",
       "</div>"
      ],
      "text/plain": [
       "   cards_remaining  dealer_up  true_count  win  initial_sum  double  move\n",
       "0              416         10           0  1.0           21       0   1.0\n",
       "1              411         10           0  1.0           10       1   2.0\n",
       "2              406          6           0  1.0           13       0   1.0\n",
       "3              401         10           0  0.0           14       0   2.0\n",
       "4              395          8           0 -1.0           16       0   2.0"
      ]
     },
     "execution_count": 20,
     "metadata": {},
     "output_type": "execute_result"
    }
   ],
   "source": [
    "bj.head()"
   ]
  },
  {
   "cell_type": "code",
   "execution_count": 21,
   "id": "cf3e7d11",
   "metadata": {},
   "outputs": [],
   "source": [
    "# TODO: NOT TESTED / COMPLETE\n",
    "def true_count(run_count, cards_remaining, card_values=[]):\n",
    "    init_num_decks = 8\n",
    "    for card in card_values:\n",
    "        if card > 2 and card < 7: run_count += 1\n",
    "        elif card == 10 or card == 11: run_count -= 1\n",
    "    decks = cards_remaining / 52.0\n",
    "    print(decks)\n",
    "    \n",
    "    trueCount = run_count / decks\n",
    "    \n",
    "    return trueCount"
   ]
  },
  {
   "cell_type": "code",
   "execution_count": 22,
   "id": "7f9e80a1",
   "metadata": {},
   "outputs": [
    {
     "name": "stdout",
     "output_type": "stream",
     "text": [
      "7.519230769230769\n",
      "0.2659846547314578\n"
     ]
    }
   ],
   "source": [
    "print(true_count(2, 391, card_values=[10, 3, 9]))"
   ]
  },
  {
   "cell_type": "code",
   "execution_count": 27,
   "id": "7f76fee8",
   "metadata": {},
   "outputs": [],
   "source": [
    "def standardize_input(value, mean, std):\n",
    "    \"\"\"Standardize a single input value based on mean and standard deviation.\"\"\"\n",
    "    return (value - mean) / std\n",
    "\n",
    "def standardize_inputs(input1, input2, input3, input4, input5):\n",
    "    \"\"\"\n",
    "    Standardize four inputs based on their respective means and standard deviations.\n",
    "    \n",
    "    Args:\n",
    "    - input1 (cards), input2 (dealer_up), input3 (count), input4 (isum): The numeric values to be standardized.\n",
    "    - stats: A list of tuples, where each tuple contains the mean and standard deviation\n",
    "             for the inputs in the order (mean, std). It's expected to have 4 tuples.\n",
    "             \n",
    "    Returns:\n",
    "    - A list of the standardized values.\n",
    "    \"\"\"\n",
    "    standardized_values = []\n",
    "    stats = [(scaler.mean_[0], scaler.scale_[0]), (scaler.mean_[1], scaler.scale_[1]), (scaler.mean_[2], scaler.scale_[2]), (scaler.mean_[3], scaler.scale_[3]), (scaler.mean_[4], scaler.scale_[4])]  # Example stats: [(mean1, std1), (mean2, std2), ...]\n",
    "    \n",
    "    for i, (mean, std) in enumerate(stats):\n",
    "        value = locals()[f'input{i+1}']\n",
    "        standardized_values.append(standardize_input(value, mean, std))\n",
    "    \n",
    "    return standardized_values\n",
    "\n",
    "\n"
   ]
  },
  {
   "cell_type": "code",
   "execution_count": 28,
   "id": "504a6ab4",
   "metadata": {},
   "outputs": [
    {
     "name": "stdout",
     "output_type": "stream",
     "text": [
      "Standardized Inputs: [1.7026748072268942, 1.0485871509480043, -0.015514953544418786, 1.5216362585026921, -0.42311910158643284]\n"
     ]
    }
   ],
   "source": [
    "# Example usage\n",
    "input_values = [416, 10, 0, 21, 0]\n",
    "\n",
    "standardized_inputs = standardize_inputs(*input_values)\n",
    "print(\"Standardized Inputs:\", standardized_inputs)"
   ]
  },
  {
   "cell_type": "markdown",
   "id": "23636119",
   "metadata": {},
   "source": [
    "### Logistic"
   ]
  },
  {
   "cell_type": "code",
   "execution_count": 29,
   "id": "e770a8ce",
   "metadata": {},
   "outputs": [],
   "source": [
    "# 1 - stand, 2 - hit, 3 - double, 4 - split\n",
    "def LRPrediction(cards_remaining, dealer_up, true_count, initial_sum, double):\n",
    "    move = LRModel.predict([standardize_inputs(cards_remaining, dealer_up, true_count, initial_sum, double)])[0]\n",
    "    \n",
    "    if move == 1: return \"Stand\"\n",
    "    elif move == 2: return \"Hit\"\n",
    "    elif move == 3: return \"Double\"\n",
    "    elif move == 4: return \"Split\"\n",
    "    else: return \"Error\""
   ]
  },
  {
   "cell_type": "code",
   "execution_count": 31,
   "id": "80d22104",
   "metadata": {},
   "outputs": [
    {
     "data": {
      "text/plain": [
       "'Hit'"
      ]
     },
     "execution_count": 31,
     "metadata": {},
     "output_type": "execute_result"
    }
   ],
   "source": [
    "LRPrediction(406, 6, 0, 13, 0)"
   ]
  },
  {
   "cell_type": "markdown",
   "id": "42bede23",
   "metadata": {},
   "source": [
    "### KNN"
   ]
  },
  {
   "cell_type": "code",
   "execution_count": 34,
   "id": "8528122b",
   "metadata": {},
   "outputs": [],
   "source": [
    "# 1 - stand, 2 - hit, 3 - double, 4 - split\n",
    "def knnPrediction(cards_remaining, dealer_up, true_count, initial_sum, double):\n",
    "    move = knn.predict([standardize_inputs(cards_remaining, dealer_up, true_count, initial_sum, double)])[0]\n",
    "    \n",
    "    if move == 1: return \"Stand\"\n",
    "    elif move == 2: return \"Hit\"\n",
    "    elif move == 3: return \"Double\"\n",
    "    elif move == 4: return \"Split\"\n",
    "    else: return \"Error\""
   ]
  },
  {
   "cell_type": "code",
   "execution_count": 35,
   "id": "1060b310",
   "metadata": {},
   "outputs": [
    {
     "data": {
      "text/plain": [
       "array([2.])"
      ]
     },
     "execution_count": 35,
     "metadata": {},
     "output_type": "execute_result"
    }
   ],
   "source": [
    "knn.predict([standardize_inputs(411, 10, 0, 10, 1)])"
   ]
  },
  {
   "cell_type": "code",
   "execution_count": 36,
   "id": "2eb698f3",
   "metadata": {},
   "outputs": [
    {
     "data": {
      "text/plain": [
       "'Stand'"
      ]
     },
     "execution_count": 36,
     "metadata": {},
     "output_type": "execute_result"
    }
   ],
   "source": [
    "knnPrediction(406, 6, 0, 13, 0)"
   ]
  },
  {
   "cell_type": "code",
   "execution_count": null,
   "id": "1066c4e0",
   "metadata": {},
   "outputs": [],
   "source": []
  }
 ],
 "metadata": {
  "kernelspec": {
   "display_name": "Python 3 (ipykernel)",
   "language": "python",
   "name": "python3"
  },
  "language_info": {
   "codemirror_mode": {
    "name": "ipython",
    "version": 3
   },
   "file_extension": ".py",
   "mimetype": "text/x-python",
   "name": "python",
   "nbconvert_exporter": "python",
   "pygments_lexer": "ipython3",
   "version": "3.11.5"
  }
 },
 "nbformat": 4,
 "nbformat_minor": 5
}
